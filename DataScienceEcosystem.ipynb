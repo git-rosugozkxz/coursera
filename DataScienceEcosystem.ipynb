{
 "cells": [
  {
   "cell_type": "markdown",
   "id": "ec0e6215-3ced-4335-b113-09741586cc7f",
   "metadata": {},
   "source": [
    "**Exercise 2: Create markdown cell with title of the notebook**"
   ]
  },
  {
   "cell_type": "markdown",
   "id": "484d5779-328f-42d3-843e-2b74eb8880b8",
   "metadata": {
    "editable": true,
    "slideshow": {
     "slide_type": ""
    },
    "tags": []
   },
   "source": [
    "# Data Science Tools and Ecosystem"
   ]
  },
  {
   "cell_type": "markdown",
   "id": "9ba144a9-1cf4-4e79-a332-e3ae84522e0e",
   "metadata": {},
   "source": [
    "**Exercise 3 - Create a markdown cell for an introduction**"
   ]
  },
  {
   "cell_type": "markdown",
   "id": "2b9fb87b-e288-423e-9488-9c347d1b5623",
   "metadata": {},
   "source": [
    "In this notebook, Data Science Tools and Ecosystem are summarized.\n"
   ]
  },
  {
   "cell_type": "markdown",
   "id": "579c0057-cf20-4be7-a016-a27d457aa1ea",
   "metadata": {},
   "source": [
    "**Exercise 10 - Insert a markdown cell to list Objectives**"
   ]
  },
  {
   "cell_type": "markdown",
   "id": "7fd8e452-1a6f-4a13-a349-7b94934797d2",
   "metadata": {},
   "source": [
    "**Objectives:**\n",
    "\n",
    "+ List popular languages for Data Science\n",
    "+ Show a few examples of formatting with Markdown\n",
    "+ Show two examples of calculations in Python"
   ]
  },
  {
   "cell_type": "markdown",
   "id": "161c23fc-48c5-4a90-82c2-3c55ca806e51",
   "metadata": {
    "jp-MarkdownHeadingCollapsed": true
   },
   "source": [
    "**Exercise 4 - Create a markdown cell to list data science languages**"
   ]
  },
  {
   "cell_type": "markdown",
   "id": "3054b2f8-20c3-4a88-a8ff-0dde0c3dedbb",
   "metadata": {},
   "source": [
    "Some of the popular languages that Data Scientists use are:\n",
    "1. Python\n",
    "2. R\n",
    "3. SQL"
   ]
  },
  {
   "cell_type": "markdown",
   "id": "d65a9775-92d7-4376-b29c-66271eb03325",
   "metadata": {},
   "source": [
    "**Exercise 5 - Create a markdown cell to list data science libraries**"
   ]
  },
  {
   "cell_type": "markdown",
   "id": "9cd84f29-7ed2-4eb9-a91d-f402b43aaa01",
   "metadata": {},
   "source": [
    "Some of the commonly used libraries used by Data Scientists include:\n",
    "1. Pandas\n",
    "2. Numpy\n",
    "5. Matplotlib\n",
    "6. Scikit-learn"
   ]
  },
  {
   "cell_type": "markdown",
   "id": "4b199377-be95-4895-8df4-4e640bab997e",
   "metadata": {},
   "source": [
    "**Exercise 6 - Create a markdown cell with a table of Data Science tools**"
   ]
  },
  {
   "cell_type": "markdown",
   "id": "6c69b3f6-4c25-4c0e-9e4f-8a81978b5a0d",
   "metadata": {},
   "source": [
    "| Data Science Tools | \n",
    "| -------------------| \n",
    "| Jupyter |\n",
    "| Apache Zeppelin |\n",
    "| RStudio |"
   ]
  },
  {
   "cell_type": "markdown",
   "id": "f8517754-5b06-449b-812b-c31375f948d6",
   "metadata": {},
   "source": [
    "**Exercise 7 - Create a markdown cell introducing arithmetic expression examples**\n",
    "\n",
    "### Below are a few examples of evaluating arithmetic expressions in Python.\n",
    "\n"
   ]
  },
  {
   "cell_type": "markdown",
   "id": "c3d89c47-38d7-4412-9db6-f0a63c995c06",
   "metadata": {},
   "source": [
    "**Exercise 8 - Create a code cell to multiply and add numbers**"
   ]
  },
  {
   "cell_type": "code",
   "execution_count": 18,
   "id": "c1f6d706-3241-4930-a8fa-c0a71b1a6bf5",
   "metadata": {},
   "outputs": [
    {
     "data": {
      "text/plain": [
       "17"
      ]
     },
     "execution_count": 18,
     "metadata": {},
     "output_type": "execute_result"
    }
   ],
   "source": [
    "# This a simple arithmetic expression to multiply then add integers.\n",
    "\n",
    "(3*4)+5"
   ]
  },
  {
   "cell_type": "markdown",
   "id": "00fb836e-e054-447c-bb2e-a856c447cb43",
   "metadata": {},
   "source": [
    "**Exercise 9 - Create a code cell to convert minutes to hours**"
   ]
  },
  {
   "cell_type": "code",
   "execution_count": 81,
   "id": "0a70aa25-f3a2-4583-9fce-883cea6d41f8",
   "metadata": {},
   "outputs": [
    {
     "data": {
      "text/plain": [
       "'200 minutes are 3.33 hours.'"
      ]
     },
     "execution_count": 81,
     "metadata": {},
     "output_type": "execute_result"
    }
   ],
   "source": [
    "# This will convert 200 minutes to hours by diving by 60.\n",
    "\n",
    "minutes = 200\n",
    "hours = round(minutes / 60, 2)\n",
    "f\"{minutes} minutes are {hours} hours.\"\n"
   ]
  },
  {
   "cell_type": "markdown",
   "id": "e5bf458e-8ab4-42b3-a209-59b99ec396c4",
   "metadata": {},
   "source": [
    "**Exercise 10 is above.**"
   ]
  },
  {
   "cell_type": "markdown",
   "id": "ba671195-6a43-4f0b-9e35-9773a61a6322",
   "metadata": {},
   "source": [
    "**Exercise 11 - Create a markdown cell to indicate the Author's name**"
   ]
  },
  {
   "cell_type": "markdown",
   "id": "ec911788-76ed-42a8-8d9a-e689038d18b9",
   "metadata": {},
   "source": [
    "## Author\n",
    "J R"
   ]
  }
 ],
 "metadata": {
  "kernelspec": {
   "display_name": "anaconda-2024.02-py310",
   "language": "python",
   "name": "conda-env-anaconda-2024.02-py310-py"
  },
  "language_info": {
   "codemirror_mode": {
    "name": "ipython",
    "version": 3
   },
   "file_extension": ".py",
   "mimetype": "text/x-python",
   "name": "python",
   "nbconvert_exporter": "python",
   "pygments_lexer": "ipython3",
   "version": "3.10.14"
  }
 },
 "nbformat": 4,
 "nbformat_minor": 5
}
